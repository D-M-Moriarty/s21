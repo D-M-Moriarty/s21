{
 "cells": [
  {
   "cell_type": "code",
   "execution_count": 1,
   "metadata": {
    "collapsed": true
   },
   "outputs": [],
   "source": [
    "%%bash\n",
    "cat << _EOF_ > whereami.sh\n",
    "#!/bin/bash\n",
    "echo \"You are in \" pwd\n",
    "_EOF_"
   ]
  },
  {
   "cell_type": "code",
   "execution_count": 2,
   "metadata": {
    "collapsed": false
   },
   "outputs": [
    {
     "name": "stdout",
     "output_type": "stream",
     "text": [
      "#!/bin/bash\n",
      "echo \"You are in \" pwd\n"
     ]
    }
   ],
   "source": [
    "%%bash\n",
    "cat whereami.sh\n"
   ]
  },
  {
   "cell_type": "code",
   "execution_count": 7,
   "metadata": {
    "collapsed": false
   },
   "outputs": [],
   "source": [
    "%%bash \n",
    "chmod u+x whereami.sh"
   ]
  },
  {
   "cell_type": "code",
   "execution_count": 8,
   "metadata": {
    "collapsed": false
   },
   "outputs": [
    {
     "name": "stdout",
     "output_type": "stream",
     "text": [
      "total 23\n",
      "-rwxr-xr-x  1 Administrators Domain Users 12325 Feb 10 11:34 01_bash_setting_permissions.ipynb\n",
      "drwxr-xr-x+ 1 t00168162      Domain Users     0 Feb 10 11:35 s21\n",
      "-rwxr-xr-x  1 t00168162      Domain Users    72 Feb 10 11:49 Untitled.ipynb\n",
      "-rwxr-xr-x  1 t00168162      Domain Users    72 Feb 10 11:43 Untitled1.ipynb\n",
      "-rwxr--r--  1 t00168162      Domain Users    35 Feb 10 11:46 whereami.sh\n",
      "-rwxr-xr-x  1 t00168162      Domain Users  2132 Feb 10 11:49 WorkBook1.ipynb\n"
     ]
    }
   ],
   "source": [
    "%%bash\n",
    "ls -l"
   ]
  },
  {
   "cell_type": "code",
   "execution_count": 9,
   "metadata": {
    "collapsed": false
   },
   "outputs": [
    {
     "name": "stdout",
     "output_type": "stream",
     "text": [
      "You are in  pwd\n"
     ]
    }
   ],
   "source": [
    "%%bash\n",
    "bash whereami.sh"
   ]
  },
  {
   "cell_type": "code",
   "execution_count": 6,
   "metadata": {
    "collapsed": false
   },
   "outputs": [
    {
     "name": "stderr",
     "output_type": "stream",
     "text": [
      "UsageError: %%bash is a cell magic, but the cell body is empty."
     ]
    }
   ],
   "source": [
    "%%bash chmod u+x whereami.sh"
   ]
  },
  {
   "cell_type": "code",
   "execution_count": 21,
   "metadata": {
    "collapsed": true
   },
   "outputs": [],
   "source": [
    "%%bash\n",
    "cat << _EOF_ > whereami.sh\n",
    "#!/bin/bash\n",
    "echo \"You are in \" \n",
    "pwd\n",
    "_EOF_"
   ]
  },
  {
   "cell_type": "code",
   "execution_count": 19,
   "metadata": {
    "collapsed": false
   },
   "outputs": [
    {
     "ename": "SyntaxError",
     "evalue": "invalid syntax (<ipython-input-19-780241b390ec>, line 1)",
     "output_type": "error",
     "traceback": [
      "\u001b[1;36m  File \u001b[1;32m\"<ipython-input-19-780241b390ec>\"\u001b[1;36m, line \u001b[1;32m1\u001b[0m\n\u001b[1;33m    bash whereami.sh\u001b[0m\n\u001b[1;37m                ^\u001b[0m\n\u001b[1;31mSyntaxError\u001b[0m\u001b[1;31m:\u001b[0m invalid syntax\n"
     ]
    }
   ],
   "source": [
    "bash whereami.sh"
   ]
  },
  {
   "cell_type": "code",
   "execution_count": 22,
   "metadata": {
    "collapsed": false
   },
   "outputs": [
    {
     "name": "stdout",
     "output_type": "stream",
     "text": [
      "You are in \n",
      "/home/t00168162\n"
     ]
    }
   ],
   "source": [
    "%%bash\n",
    "bash whereami.sh"
   ]
  },
  {
   "cell_type": "code",
   "execution_count": 23,
   "metadata": {
    "collapsed": false
   },
   "outputs": [
    {
     "name": "stdout",
     "output_type": "stream",
     "text": [
      "You are in /home/t00168162\n"
     ]
    }
   ],
   "source": [
    "%%bash\n",
    "echo \"You are in $(pwd)\""
   ]
  },
  {
   "cell_type": "code",
   "execution_count": 24,
   "metadata": {
    "collapsed": false
   },
   "outputs": [
    {
     "name": "stdout",
     "output_type": "stream",
     "text": [
      "The contents of whereami.sh is #!/bin/bash\n",
      "echo \"You are in \" \n",
      "pwd\n"
     ]
    }
   ],
   "source": [
    "%%bash\n",
    "echo \"The contents of whereami.sh is $(cat whereami.sh)\""
   ]
  },
  {
   "cell_type": "code",
   "execution_count": 25,
   "metadata": {
    "collapsed": false
   },
   "outputs": [
    {
     "name": "stdout",
     "output_type": "stream",
     "text": [
      "The contents of parent folder is total 63\n",
      "drwxr-xr-x+ 1 t00168162                     Domain Users             0 Feb 10 12:01 .\n",
      "drwxrwxrwt+ 1 1XX64006A30888D+Administrator 1XX64006A30888D+None     0 Feb 10 11:28 ..\n",
      "-rwxr-xr-x  1 t00168162                     Domain Users          1494 Oct  1 14:58 .bash_profile\n",
      "-rwxr-xr-x  1 t00168162                     Domain Users          6054 Oct  1 14:58 .bashrc\n",
      "-rwxr-xr-x  1 t00168162                     Domain Users          1919 Oct  1 14:58 .inputrc\n",
      "drwxr-xr-x+ 1 t00168162                     Domain Users             0 Feb 10 11:49 .ipynb_checkpoints\n",
      "drwxr-xr-x+ 1 t00168162                     Domain Users             0 Feb 10 11:42 .ipython\n",
      "-rwxr-xr-x  1 t00168162                     Domain Users          1236 Oct  1 14:58 .profile\n",
      "-rwxr-xr-x  1 Administrators                Domain Users         12325 Feb 10 11:34 01_bash_setting_permissions.ipynb\n",
      "drwxr-xr-x+ 1 t00168162                     Domain Users             0 Feb 10 11:35 s21\n",
      "-rwxr-xr-x  1 t00168162                     Domain Users           581 Feb 10 11:51 Untitled.ipynb\n",
      "-rwxr-xr-x  1 t00168162                     Domain Users            72 Feb 10 11:43 Untitled1.ipynb\n",
      "-rwxr--r--  1 t00168162                     Domain Users            36 Feb 10 11:53 whereami.sh\n",
      "-rwxr-xr-x  1 t00168162                     Domain Users          4827 Feb 10 12:01 WorkBook1.ipynb\n"
     ]
    }
   ],
   "source": [
    "%%bash\n",
    "echo \"The contents of parent folder is $(ls -al ./)\""
   ]
  },
  {
   "cell_type": "code",
   "execution_count": 26,
   "metadata": {
    "collapsed": true
   },
   "outputs": [],
   "source": [
    "%%bash\n",
    "cat << _EOF_ > whereami.sh\n",
    "#!/bin/bash\n",
    "echo \"You are in $(pwd)\" \n",
    "\n",
    "_EOF_"
   ]
  },
  {
   "cell_type": "code",
   "execution_count": 27,
   "metadata": {
    "collapsed": false
   },
   "outputs": [
    {
     "name": "stdout",
     "output_type": "stream",
     "text": [
      "You are in /home/t00168162\n"
     ]
    }
   ],
   "source": [
    "%%bash\n",
    "bash whereami.sh"
   ]
  },
  {
   "cell_type": "code",
   "execution_count": 28,
   "metadata": {
    "collapsed": true
   },
   "outputs": [],
   "source": [
    "%%bash\n",
    "\n",
    "# I used command expansion, I then displayed using echo\n",
    "\n",
    "cat << _EOF_ > whereami.sh\n",
    "#!/bin/bash\n",
    "echo \"You are in $(pwd)\" \n",
    "\n",
    "_EOF_"
   ]
  },
  {
   "cell_type": "code",
   "execution_count": 29,
   "metadata": {
    "collapsed": false
   },
   "outputs": [
    {
     "name": "stderr",
     "output_type": "stream",
     "text": [
      "bash: line 1: whereami.sh: command not found\n"
     ]
    }
   ],
   "source": [
    "%%bash\n",
    "whereami.sh"
   ]
  },
  {
   "cell_type": "code",
   "execution_count": 30,
   "metadata": {
    "collapsed": false
   },
   "outputs": [
    {
     "name": "stdout",
     "output_type": "stream",
     "text": [
      "You are in /home/t00168162\n"
     ]
    }
   ],
   "source": [
    "%%bash\n",
    "bash whereami.sh"
   ]
  },
  {
   "cell_type": "code",
   "execution_count": 31,
   "metadata": {
    "collapsed": false
   },
   "outputs": [
    {
     "name": "stderr",
     "output_type": "stream",
     "text": [
      "bash: line 1: ./: Is a directory\n"
     ]
    }
   ],
   "source": [
    "%%bash\n",
    "./ whereami.sh"
   ]
  },
  {
   "cell_type": "code",
   "execution_count": 32,
   "metadata": {
    "collapsed": false
   },
   "outputs": [
    {
     "name": "stdout",
     "output_type": "stream",
     "text": [
      "You are in /home/t00168162\n"
     ]
    }
   ],
   "source": [
    "%%bash\n",
    "./whereami.sh"
   ]
  },
  {
   "cell_type": "code",
   "execution_count": 33,
   "metadata": {
    "collapsed": false
   },
   "outputs": [
    {
     "data": {
      "text/plain": [
       "'C:\\\\cygwin64\\\\home\\\\t00168162'"
      ]
     },
     "execution_count": 33,
     "metadata": {},
     "output_type": "execute_result"
    }
   ],
   "source": [
    "pwd"
   ]
  },
  {
   "cell_type": "code",
   "execution_count": 34,
   "metadata": {
    "collapsed": false
   },
   "outputs": [
    {
     "name": "stdout",
     "output_type": "stream",
     "text": [
      "/home/t00168162\n"
     ]
    }
   ],
   "source": [
    "%%bash\n",
    "pwd"
   ]
  },
  {
   "cell_type": "code",
   "execution_count": 35,
   "metadata": {
    "collapsed": true
   },
   "outputs": [],
   "source": [
    "%%bash\n",
    "cd s21"
   ]
  },
  {
   "cell_type": "code",
   "execution_count": 36,
   "metadata": {
    "collapsed": false
   },
   "outputs": [
    {
     "name": "stdout",
     "output_type": "stream",
     "text": [
      "01_bash_setting_permissions.ipynb\n",
      "s21\n",
      "Untitled.ipynb\n",
      "Untitled1.ipynb\n",
      "whereami.sh\n",
      "WorkBook1.ipynb\n"
     ]
    }
   ],
   "source": [
    "%%bash\n",
    "ls"
   ]
  },
  {
   "cell_type": "code",
   "execution_count": 37,
   "metadata": {
    "collapsed": false
   },
   "outputs": [
    {
     "name": "stdout",
     "output_type": "stream",
     "text": [
      "/home/t00168162\n"
     ]
    }
   ],
   "source": [
    "%%bash\n",
    "pwd\n"
   ]
  },
  {
   "cell_type": "code",
   "execution_count": null,
   "metadata": {
    "collapsed": true
   },
   "outputs": [],
   "source": []
  }
 ],
 "metadata": {
  "kernelspec": {
   "display_name": "Python 3",
   "language": "python",
   "name": "python3"
  },
  "language_info": {
   "codemirror_mode": {
    "name": "ipython",
    "version": 3
   },
   "file_extension": ".py",
   "mimetype": "text/x-python",
   "name": "python",
   "nbconvert_exporter": "python",
   "pygments_lexer": "ipython3",
   "version": "3.5.1"
  }
 },
 "nbformat": 4,
 "nbformat_minor": 0
}
